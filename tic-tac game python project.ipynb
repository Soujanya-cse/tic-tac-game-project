{
 "cells": [
  {
   "cell_type": "code",
   "execution_count": null,
   "id": "f8b1d192",
   "metadata": {},
   "outputs": [],
   "source": [
    "theBoard={'top-L':'','top-M':'','top-R':'',\n",
    "         'mid-L':'','mid-M':'','mid-R':'',\n",
    "         'low-L':'','low-M':'','low-R':''}\n",
    "def printBoard(board):\n",
    "    print(board['top-L']+'|'+board['top-M']+'|'+board['top-R'])\n",
    "    print('-+-+-+')\n",
    "    print(board['mid-L']+'|'+board['mid-M']+'|'+board['mid-R'])\n",
    "    print('-+-+-+')\n",
    "    print(board['low-L']+'|'+board['low-M']+'|'+board['low-R'])\n",
    "    print('-+-+-+')\n",
    "turn='X'\n",
    "for i in range(9):\n",
    "    printBoard(theBoard)\n",
    "    print('Turn for'+turn+'.Move on which space?')\n",
    "    move=input()\n",
    "    theBoard[move]=turn\n",
    "    if turn=='X':\n",
    "        turn='O'\n",
    "    else:\n",
    "        turn='X'\n",
    "printBoard(theBoard)"
   ]
  }
 ],
 "metadata": {
  "kernelspec": {
   "display_name": "Python 3 (ipykernel)",
   "language": "python",
   "name": "python3"
  },
  "language_info": {
   "codemirror_mode": {
    "name": "ipython",
    "version": 3
   },
   "file_extension": ".py",
   "mimetype": "text/x-python",
   "name": "python",
   "nbconvert_exporter": "python",
   "pygments_lexer": "ipython3",
   "version": "3.9.13"
  }
 },
 "nbformat": 4,
 "nbformat_minor": 5
}
